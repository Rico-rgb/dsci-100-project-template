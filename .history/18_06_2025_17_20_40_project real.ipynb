{
 "cells": [
  {
   "cell_type": "code",
   "execution_count": null,
   "id": "637aa5b7-5be8-476c-a774-8cca931a2564",
   "metadata": {},
   "outputs": [],
   "source": [
    "library(tidymodels)\n",
    "library(tidyverse)\n",
    "library(repr)\n",
    "library(readxl)\n",
    "library(themis)\n",
    "options(repr.matrix.max.rows = 6)"
   ]
  },
  {
   "cell_type": "markdown",
   "id": "6e3d4608-2be8-422b-8646-471bcbee1902",
   "metadata": {},
   "source": [
    "# Predicting Newsletter Subscription in Minecraft Players Using Age and Gameplay Hours\n",
    "\n",
    "**Introduction:**\n",
    "\n",
    "The Pacific Laboratory for Artificial Intelligence (PLAI) research group in Computer Science at the University of British Columbia (UBC), led by Frank Wood, has developed a Minecraft server that records player behaviour to understand how people play video games. Managing this system involves ensuring server stability and cost-effective recruitment strategies for ongoing research. Understanding which player characteristics predict engagement (such as newsletter subscription) is essential for their efforts. Therefore, in this analysis, we try to answer the question: **Can a player’s age and played hours predict whether they subscribe to the newsletter?**\n",
    "\n",
    "To try and answer this question, we will use one data set that contain the following columns:\n",
    "\n",
    "- `experience` (character type): The player's experience level (Beginner/Amateur/Regular/Pro/Veteran)\n",
    "- `subscribe` (logical type): Whether the player subscribed to the newsletter (TRUE/FALSE)\n",
    "- `hashedEmail` (character type): Unique identifier for a player\n",
    "- `played_hours` (double type): Total hours the player spent in-game\n",
    "- `name` (character type): The player's name\n",
    "- `gender` (character type): The player's gender\n",
    "- `Age` (double type): Age of the player (in years)\n",
    "\n",
    "The player dataset has **196 rows and 7 columns**. \n",
    "\n",
    "**Methods and Results:**\n",
    "\n",
    "First we need to load the file."
   ]
  },
  {
   "cell_type": "code",
   "execution_count": null,
   "id": "dc5e9174-3415-4e3c-9501-e26c7669f668",
   "metadata": {},
   "outputs": [],
   "source": [
    "player_data <- read_csv(\"players.csv\")\n",
    "\n",
    "player_data"
   ]
  },
  {
   "cell_type": "markdown",
   "id": "f3d8c008-b827-46fa-91e1-c3c8cd111b4a",
   "metadata": {},
   "source": [
    "To proceed with our analysis, we must tidy our data. Since we will be using a nearest neighbours classification, we do not want many predictors, since it could potentially slow our analysis (or even negatively affect it). Therefore, we select the `Age` and `played_hours` columns, since they are the only ones with integer values. We should also change our categorical variables to factors. Here, we must carefully consider missing values (the `drop_na` function can deal with them)."
   ]
  },
  {
   "cell_type": "code",
   "execution_count": null,
   "id": "11f21d12-3ad0-4d88-99f8-584a3b7fcaed",
   "metadata": {},
   "outputs": [],
   "source": [
    "#this cell tidies the data and redies it to be analyzed and made into a vizualization and model\n",
    "\n",
    "player_data_clean_0 <- select(player_data, -hashedEmail) |>\n",
    "    select(-name) |>\n",
    "  mutate(subscribe = as.factor(subscribe),\n",
    "    gender = as.factor(gender),\n",
    "    experience = as.factor(experience))\n",
    "\n",
    "player_data_clean <- player_data_clean_0 |>\n",
    "select(subscribe, played_hours, Age)|>\n",
    "drop_na()\n",
    "\n",
    "player_data_clean"
   ]
  },
  {
   "cell_type": "markdown",
   "id": "562d0581-75b1-4c8a-8b33-7a9f0974248c",
   "metadata": {},
   "source": [
    "After selecting the needed columns, we can analyze the relationship between the variables and the predictor. We can look at their relationships all at once or separately. Below, visualizations of all these relationships:\n",
    "\n",
    "Two histograms were made to observe whether age and hours played really affected a subscription status (figures 1.0 and 1.1). Figure 1.0 showed that those within the range of roughly 15 to 27 years of age seem to subscribe more, and Figure 1.1 showed that those with more hours have more subscriptions (even though there is a large number of people who subscribed with few hours, those with many hours were all subscribed).\n",
    "\n",
    "Lastly, a scatter plot was made to show the relationship between all the predictors and the variable being predicted (Figure 1.2), which is the fusion of patterns from both Figure 1.0 and 1.1."
   ]
  },
  {
   "cell_type": "code",
   "execution_count": null,
   "id": "b9eff742-cbda-4183-8137-8858efdaa766",
   "metadata": {},
   "outputs": [],
   "source": [
    "#this cell makes the important visualizations showing relation ships between variables and subscription\n",
    "\n",
    "player_histogram <- ggplot(player_data, aes(x = Age, fill = subscribe)) +\n",
    "  geom_histogram(position = \"dodge\", alpha = 0.5, bins = 30) +\n",
    "  labs(title = \"Distribution of Age by Subscription Status\",\n",
    "       x = \"Age\", y = \"Count of subscriptions\", \n",
    "       caption = \"Fig. 1.0: Figure made for visual analysis of subscription and age\") +\n",
    "  theme(plot.caption = element_text(size = 12, hjust = 0))\n",
    "\n",
    "player_histogram_hours <- ggplot(player_data, aes(x = played_hours, fill = subscribe)) +\n",
    "  geom_histogram(position = \"dodge\", alpha = 0.5, bins = 30) +\n",
    "  labs(title = \"Distribution of played hours by Subscription Status\",\n",
    "       x = \"played hours\", y = \"Count of subscriptions\", \n",
    "       caption = \"Fig. 1.1: Figure made for visual analysis of subscription and played hours\") +\n",
    "  theme(plot.caption = element_text(size = 12, hjust = 0))\n",
    "\n",
    "player_scatter <- ggplot(player_data, aes(x = Age, y = played_hours, color = subscribe)) +\n",
    "  geom_point(alpha = 0.5) +\n",
    "  labs(title = \"Subscription Status based on played hours and player age\",\n",
    "       x = \"Age\", y = \"Played hours\", \n",
    "       caption = \"Fig. 1.2: Figure made for visual analysis of subscription, age, and played hours\") +\n",
    "  theme(plot.caption = element_text(size = 12, hjust = 0))\n",
    "\n",
    "player_histogram\n",
    "player_histogram_hours\n",
    "player_scatter"
   ]
  },
  {
   "cell_type": "markdown",
   "id": "33ea7c76-ac54-4dd7-aae9-8eadc591bba9",
   "metadata": {},
   "source": [
    "I used K-Nearest Neighbours (KNN) classification to model subscription behaviour. This model was chosen because it is intuitive, requires few assumptions, and works well with nonlinear relationships. However, this method may not predict well beyond the range of values input in your training data and may not perform well with a large number of predictors. For it to work, the model assumes that similar players have similar labels.\n",
    "\n",
    "For this model, I first split the data into training and testing data (with a 75/25 train-test split), then created the folds for cross validation (here I performed a 5-fold cross validation). \n",
    "\n",
    "Using the training data from the split, I created a recipe that scales the data and a specification for the KNN model that included tuning for the number of neighbours, all of which were then assembled into a workflow to determine the number of neighbours with the highest accuracy. "
   ]
  },
  {
   "cell_type": "code",
   "execution_count": null,
   "id": "51646200-3b4e-4bbe-9439-a19c4bbaf9d6",
   "metadata": {},
   "outputs": [],
   "source": [
    "set.seed(23)\n",
    "# This cell is for the KNN classification model for the prediction of subscriptions\n",
    "\n",
    "player_data_clean <- player_data_clean |>\n",
    "  mutate(age = scale(Age),\n",
    "    hours = scale(played_hours))\n",
    "\n",
    "# Split the data into training and testing sets\n",
    "data_split <- initial_split(player_data_clean, prop = 0.75, strata = subscribe)\n",
    "train_data <- training(data_split)\n",
    "test_data  <- testing(data_split)\n",
    "\n",
    "# Create the folds for cross-validation\n",
    "folds <- vfold_cv(train_data, v = 5, strata = subscribe)\n",
    "\n",
    "#Create a table with k values\n",
    "k_vals <- tibble(neighbors = seq(from = 1, to = 15, by = 1))\n",
    "\n",
    "# Create a recipe\n",
    "knn_recipe <- recipe(subscribe ~ age + hours, data = train_data) |>\n",
    "  step_center(all_predictors()) |>\n",
    "  step_scale(all_predictors())\n",
    "\n",
    "# Specify the model\n",
    "knn_spec <- nearest_neighbor(weight_func = \"rectangular\", neighbors = tune()) |>\n",
    "  set_engine(\"kknn\") |>\n",
    "  set_mode(\"classification\")\n",
    "\n",
    "# Create a workflow and use tune grid\n",
    "knn_workflow <- workflow() |>\n",
    "  add_recipe(knn_recipe) |>\n",
    "  add_model(knn_spec) |>\n",
    "  tune_grid(resamples = folds, grid = k_vals) |>\n",
    "  collect_metrics()\n",
    "\n",
    "#find the best K to use in the model\n",
    "accuracies <- knn_workflow |>\n",
    "          filter(.metric == \"accuracy\") \n",
    "          \n",
    "best_k <- accuracies |> \n",
    "          slice_max(mean, n = 1) |>\n",
    "          pull(neighbors)\n",
    "best_k"
   ]
  },
  {
   "cell_type": "markdown",
   "id": "e8280e44-5673-4fe2-aab9-bffb958f5f51",
   "metadata": {},
   "source": [
    "The number of neighbours was determined to be 15. This can also be visualized with the help of a line graph (Figure 2.0) that shows the accuracy versus the number of neighbours. As we have determined beforehand, we can see that the highest accuracy is achieved with 15 neighbours."
   ]
  },
  {
   "cell_type": "code",
   "execution_count": null,
   "id": "eefc5e9d-cb42-4d96-8a9d-3aa50231ec9b",
   "metadata": {},
   "outputs": [],
   "source": [
    "#this cell is for the plot of accuracy vs k to determine the best values of k\n",
    "\n",
    "accuracy_vs_k <- ggplot(accuracies, aes(x = neighbors, y = mean)) +\n",
    "  geom_point() +\n",
    "  geom_line() +\n",
    "  labs(x = \"Neighbors\", y = \"Accuracy Estimate\", title = \"Possible K values\",\n",
    "       caption = \"Fig. 2.0: Figure made to aid in identification of best k value\") +\n",
    "  theme(text = element_text(size = 12)) +\n",
    "theme(plot.caption = element_text(size = 12, hjust = 0)) +\n",
    "  scale_x_continuous(breaks = seq(0, 15, by = 1))\n",
    "accuracy_vs_k"
   ]
  },
  {
   "cell_type": "markdown",
   "id": "cdec101d-e4d0-44b8-86d7-f41774f1a1b2",
   "metadata": {},
   "source": [
    "After determining the best number of neighbours, we can use it to train the model once again and make another workflow. Up until this point, all was achieved using the training dataset. \n",
    "\n",
    "We now use the newly trained model to predict the test dataset. We can use these predictions to look at the precision, recall, accuracy, and confusion matrix to determine how good our model is."
   ]
  },
  {
   "cell_type": "code",
   "execution_count": null,
   "id": "c0a4bc8b-e998-460d-8dde-d0da304e92c0",
   "metadata": {},
   "outputs": [],
   "source": [
    "set.seed(29)\n",
    "#use the best k to train the model once again\n",
    "knn_spec_best <- nearest_neighbor(weight_func = \"rectangular\", neighbors = best_k) |>\n",
    "  set_engine(\"kknn\") |>\n",
    "  set_mode(\"classification\")\n",
    "\n",
    "knn_fit <- workflow() |>\n",
    "  add_recipe(knn_recipe) |>\n",
    "  add_model(knn_spec_best) |>\n",
    "  fit(data = train_data)\n",
    "\n",
    "#Use the new trained model to make predictions on the test set, look at its confusion matrix and assess its accuracy, precision, and recall\n",
    "player_test_predictions <- predict(knn_fit, test_data) |>\n",
    "  bind_cols(test_data)\n",
    "\n",
    "player_test_predictions |>\n",
    "  metrics(truth = subscribe, estimate = .pred_class) |>\n",
    "  filter(.metric == \"accuracy\")\n",
    "\n",
    "player_test_predictions |> pull(subscribe) |> levels()\n",
    "\n",
    "player_test_predictions |>\n",
    "    precision(truth = subscribe, estimate = .pred_class, event_level = \"first\")\n",
    "\n",
    "player_test_predictions |>\n",
    "    recall(truth = subscribe, estimate = .pred_class, event_level = \"first\")\n",
    "\n",
    "confusion <- player_test_predictions |>\n",
    "             conf_mat(truth = subscribe, estimate = .pred_class)\n",
    "confusion"
   ]
  },
  {
   "cell_type": "markdown",
   "id": "87bbdd77-497e-4110-a078-530f837518c9",
   "metadata": {},
   "source": [
    "We can also create a visualization of the models prediction to make it easier to present and asses our model."
   ]
  },
  {
   "cell_type": "code",
   "execution_count": null,
   "id": "754b8215-70c9-4820-ae91-9d12799ae347",
   "metadata": {},
   "outputs": [],
   "source": [
    "#Show the predictions on a plot, comparing them to the answers.\n",
    "\n",
    "ggplot(player_test_predictions, aes(x = subscribe, fill = .pred_class)) +\n",
    "  geom_bar(position = \"fill\") +\n",
    "  labs(\n",
    "    title = \"Actual vs Predicted Subscriptions\",\n",
    "    x = \"Actual Subscription Status\",\n",
    "    y = \"Count\",\n",
    "    fill = \"Predicted\", \n",
    "    caption = \"Fig. 3.0: Prediction compared to actual subscription status\") +\n",
    "  theme(plot.caption = element_text(size = 12, hjust = 0))\n",
    "\n",
    "player_scatter_predictions <- ggplot(player_test_predictions, aes(x = Age, y = played_hours, color = .pred_class)) +\n",
    "  geom_point(alpha = 0.5) +\n",
    "  labs(title = \"Subscription Status based on played hours and player age\",\n",
    "       x = \"Age\", y = \"Played hours\", color = \"predicted subscription\", \n",
    "       caption = \"Fig. 3.1: Predictions of subscription based on age and played hours\") +\n",
    "theme(plot.caption = element_text(size = 12, hjust = 0))\n",
    "\n",
    "player_scatter_predictions"
   ]
  },
  {
   "cell_type": "markdown",
   "id": "7baa16ef-055a-490a-899a-d45f84543ed5",
   "metadata": {},
   "source": [
    "We can place the visualization of the predictions side by side with the "
   ]
  }
 ],
 "metadata": {
  "kernelspec": {
   "display_name": "R",
   "language": "R",
   "name": "ir"
  },
  "language_info": {
   "codemirror_mode": "r",
   "file_extension": ".r",
   "mimetype": "text/x-r-source",
   "name": "R",
   "pygments_lexer": "r",
   "version": "4.3.3"
  }
 },
 "nbformat": 4,
 "nbformat_minor": 5
}
