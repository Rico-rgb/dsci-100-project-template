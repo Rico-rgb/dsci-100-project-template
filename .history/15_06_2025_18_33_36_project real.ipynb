{
 "cells": [
  {
   "cell_type": "code",
   "execution_count": null,
   "id": "637aa5b7-5be8-476c-a774-8cca931a2564",
   "metadata": {},
   "outputs": [],
   "source": [
    "library(tidymodels)\n",
    "library(tidyverse)\n",
    "library(repr)\n",
    "library(readxl)\n",
    "source(\"cleanup.R\")\n",
    "options(repr.matrix.max.rows = 6)"
   ]
  },
  {
   "cell_type": "code",
   "execution_count": null,
   "id": "dc5e9174-3415-4e3c-9501-e26c7669f668",
   "metadata": {},
   "outputs": [],
   "source": [
    "player_data <- read_csv(\"players.csv\")\n",
    "session_data <- read_csv(\"sessions.csv\")\n",
    "\n",
    "player_data"
   ]
  },
  {
   "cell_type": "code",
   "execution_count": null,
   "id": "b9eff742-cbda-4183-8137-8858efdaa766",
   "metadata": {},
   "outputs": [],
   "source": [
    "player_data_clean <- select(player_data, -hashedEmail) |>\n",
    "    select(-name) |>\n",
    "  mutate(subscribe = as.factor(subscribe),\n",
    "    gender = as.factor(gender),\n",
    "    experience = as.factor(experience))\n",
    "\n",
    "\n",
    "player_plot <- ggplot(player_data, aes(x = gender, fill = subscribe)) +\n",
    "  geom_bar(position = \"fill\") +\n",
    "  labs(\n",
    "    title = \"Proportion Subscribed by Gender\",\n",
    "    y = \"Proportion of subscription\", x = \"Gender\"\n",
    "  )\n",
    "player_plot\n",
    "\n",
    "player_subset <- ggpairs(player_data_clean, \n",
    "        aes(color = subscribed, alpha = 0.5),\n",
    "        lower = list(continuous = wrap(\"points\", alpha = 0.4)),\n",
    "        diag = list(continuous = wrap(\"densityDiag\")))\n",
    "player_subset"
   ]
  },
  {
   "cell_type": "code",
   "execution_count": null,
   "id": "51646200-3b4e-4bbe-9439-a19c4bbaf9d6",
   "metadata": {},
   "outputs": [],
   "source": []
  },
  {
   "cell_type": "code",
   "execution_count": null,
   "id": "c0a4bc8b-e998-460d-8dde-d0da304e92c0",
   "metadata": {},
   "outputs": [],
   "source": []
  }
 ],
 "metadata": {
  "kernelspec": {
   "display_name": "R",
   "language": "R",
   "name": "ir"
  },
  "language_info": {
   "codemirror_mode": "r",
   "file_extension": ".r",
   "mimetype": "text/x-r-source",
   "name": "R",
   "pygments_lexer": "r",
   "version": "4.3.3"
  }
 },
 "nbformat": 4,
 "nbformat_minor": 5
}
