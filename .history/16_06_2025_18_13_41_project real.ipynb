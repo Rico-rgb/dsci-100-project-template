{
 "cells": [
  {
   "cell_type": "code",
   "execution_count": null,
   "id": "637aa5b7-5be8-476c-a774-8cca931a2564",
   "metadata": {},
   "outputs": [],
   "source": [
    "library(tidymodels)\n",
    "library(tidyverse)\n",
    "library(repr)\n",
    "library(readxl)\n",
    "source(\"cleanup.R\")\n",
    "options(repr.matrix.max.rows = 6)"
   ]
  },
  {
   "cell_type": "code",
   "execution_count": null,
   "id": "dc5e9174-3415-4e3c-9501-e26c7669f668",
   "metadata": {},
   "outputs": [],
   "source": [
    "player_data <- read_csv(\"players.csv\")\n",
    "session_data <- read_csv(\"sessions.csv\")\n",
    "\n",
    "player_data"
   ]
  },
  {
   "cell_type": "code",
   "execution_count": null,
   "id": "11f21d12-3ad0-4d88-99f8-584a3b7fcaed",
   "metadata": {},
   "outputs": [],
   "source": [
    "#this cell tidies the data and redies it to be analyzed and made into a vizualization and model\n",
    "\n",
    "player_data_clean <- select(player_data, -hashedEmail) |>\n",
    "    select(-name) |>\n",
    "  mutate(subscribe = as.factor(subscribe),\n",
    "    gender = as.factor(gender),\n",
    "    experience = as.factor(experience))\n",
    "\n",
    "player_data_clean"
   ]
  },
  {
   "cell_type": "code",
   "execution_count": null,
   "id": "b9eff742-cbda-4183-8137-8858efdaa766",
   "metadata": {},
   "outputs": [],
   "source": [
    "#this cell makes the important vizualizations showing relation ships between variables and subscription\n",
    "\n",
    "\n",
    "player_barplot <- ggplot(player_data, aes(x = gender, fill = subscribe)) +\n",
    "  geom_bar(position = \"fill\") +\n",
    "  labs(\n",
    "    title = \"Proportion Subscribed by Gender\",\n",
    "    y = \"Proportion of subscription\", x = \"Gender\")\n",
    "\n",
    "player_barplot_experience <- ggplot(player_data, aes(x = experience, fill = subscribe)) +\n",
    "  geom_bar(position = \"fill\") +\n",
    "  labs(\n",
    "    title = \"Proportion Subscribed by experience\",\n",
    "    y = \"Proportion of subscription\", x = \"Experience level\")\n",
    "\n",
    "player_histogram <- ggplot(player_data, aes(x = Age, fill = subscribe)) +\n",
    "  geom_histogram(position = \"identity\", alpha = 0.5, bins = 30) +\n",
    "  labs(title = \"Distribution of Age by Subscription Status\",\n",
    "       x = \"Age\", y = \"Count of subscriptions\")\n",
    "\n",
    "player_barplot\n",
    "player_barplot_experience\n",
    "player_histogram"
   ]
  },
  {
   "cell_type": "code",
   "execution_count": null,
   "id": "51646200-3b4e-4bbe-9439-a19c4bbaf9d6",
   "metadata": {},
   "outputs": [],
   "source": [
    "# This cell is for the KNN classification model for the prediction of subscriptions\n",
    "\n",
    "player_data_clean <- player_data_clean |>\n",
    "  mutate(age = scale(Age),\n",
    "    hours = scale(played_hours))\n",
    "\n",
    "# Split the data into training and testing sets\n",
    "data_split <- initial_split(player_data_clean, prop = 0.75, strata = subscribe)\n",
    "train_data <- training(data_split)\n",
    "test_data  <- testing(data_split)\n",
    "\n",
    "# Create a recipe\n",
    "knn_recipe <- recipe(subscribe ~ Age + gender + played_hours + experience, data = train_data) |>\n",
    "  step_center(all_predictors()) |>\n",
    "  step_scale(all_predictors())\n",
    "\n",
    "# 3. Specify the model\n",
    "knn_spec <- nearest_neighbor(neighbors = tune(),\n",
    "  weight_func = \"rectangular\") |>\n",
    "  set_engine(\"kknn\") |>\n",
    "  set_mode(\"classification\")"
   ]
  },
  {
   "cell_type": "code",
   "execution_count": null,
   "id": "c0a4bc8b-e998-460d-8dde-d0da304e92c0",
   "metadata": {},
   "outputs": [],
   "source": []
  }
 ],
 "metadata": {
  "kernelspec": {
   "display_name": "R",
   "language": "R",
   "name": "ir"
  },
  "language_info": {
   "codemirror_mode": "r",
   "file_extension": ".r",
   "mimetype": "text/x-r-source",
   "name": "R",
   "pygments_lexer": "r",
   "version": "4.3.3"
  }
 },
 "nbformat": 4,
 "nbformat_minor": 5
}
