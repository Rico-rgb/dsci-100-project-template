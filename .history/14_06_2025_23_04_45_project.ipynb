{
 "cells": [
  {
   "cell_type": "code",
   "execution_count": null,
   "id": "8e163e21-b727-44f6-9d89-62915057b129",
   "metadata": {},
   "outputs": [],
   "source": [
    "library(tidyverse)\n",
    "library(repr)\n",
    "library(readxl)\n",
    "source(\"cleanup.R\")\n",
    "options(repr.matrix.max.rows = 6)"
   ]
  },
  {
   "cell_type": "code",
   "execution_count": null,
   "id": "6f6a6235-91b7-4f16-832e-27e2898a2867",
   "metadata": {},
   "outputs": [],
   "source": [
    "player_data <- read_csv(\"players.csv\")\n",
    "\n",
    "sessions_data <- read_csv(\"sessions.csv\")\n",
    "\n"
   ]
  },
  {
   "cell_type": "code",
   "execution_count": null,
   "id": "c3b4b078-ea9f-4a08-89ac-16f3ff12bf1b",
   "metadata": {},
   "outputs": [],
   "source": [
    "clean_player_data <- player_data |>\n",
    "select(- hashedEmail) |>\n",
    "select(-name)\n",
    "clean_player_data"
   ]
  },
  {
   "cell_type": "code",
   "execution_count": null,
   "id": "2552c3a5-8d53-49c4-af0f-e5f515dd96d3",
   "metadata": {},
   "outputs": [],
   "source": []
  }
 ],
 "metadata": {
  "kernelspec": {
   "display_name": "R",
   "language": "R",
   "name": "ir"
  },
  "language_info": {
   "codemirror_mode": "r",
   "file_extension": ".r",
   "mimetype": "text/x-r-source",
   "name": "R",
   "pygments_lexer": "r",
   "version": "4.3.3"
  }
 },
 "nbformat": 4,
 "nbformat_minor": 5
}
